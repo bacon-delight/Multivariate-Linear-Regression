{
 "cells": [
  {
   "cell_type": "markdown",
   "metadata": {},
   "source": [
    "# Multivariate Linear Regression"
   ]
  },
  {
   "cell_type": "markdown",
   "metadata": {},
   "source": [
    "In this notebook, I'm going to be dealing with Linear Regression on a dataset with multiple features and an output variable, otherwise known as Multivariate Linear Regression. Just so you understand, I'm gonna be refrain from using any scikit-learn or similar imports and go under the hood and attempt to do the computations myself. The goal is to understand better how these algorithms work under the hood, in order to get a better intuition."
   ]
  },
  {
   "cell_type": "code",
   "execution_count": 272,
   "metadata": {},
   "outputs": [],
   "source": [
    "# Importing Necessary Libraries\n",
    "import numpy as np\n",
    "import pandas as pd\n",
    "import matplotlib.pyplot as plt"
   ]
  },
  {
   "cell_type": "markdown",
   "metadata": {},
   "source": [
    "The above libraries are some bare minimum which I had to import to make this notebook somewhat concise and not ending up covering a lot of stuff which might turn out to be irrelevant for the purpose of this notebook. Also, these libraries are proven to be fast and I would not have to worry too much on things like writing a function for matrix multiplication which might turn out to have a huge time complexity."
   ]
  },
  {
   "cell_type": "code",
   "execution_count": 273,
   "metadata": {},
   "outputs": [
    {
     "data": {
      "text/html": [
       "<div>\n",
       "<style scoped>\n",
       "    .dataframe tbody tr th:only-of-type {\n",
       "        vertical-align: middle;\n",
       "    }\n",
       "\n",
       "    .dataframe tbody tr th {\n",
       "        vertical-align: top;\n",
       "    }\n",
       "\n",
       "    .dataframe thead th {\n",
       "        text-align: right;\n",
       "    }\n",
       "</style>\n",
       "<table border=\"1\" class=\"dataframe\">\n",
       "  <thead>\n",
       "    <tr style=\"text-align: right;\">\n",
       "      <th></th>\n",
       "      <th>Size</th>\n",
       "      <th>Bedrooms</th>\n",
       "      <th>Price</th>\n",
       "    </tr>\n",
       "  </thead>\n",
       "  <tbody>\n",
       "    <tr>\n",
       "      <th>0</th>\n",
       "      <td>2104</td>\n",
       "      <td>3</td>\n",
       "      <td>399900</td>\n",
       "    </tr>\n",
       "    <tr>\n",
       "      <th>1</th>\n",
       "      <td>1600</td>\n",
       "      <td>3</td>\n",
       "      <td>329900</td>\n",
       "    </tr>\n",
       "    <tr>\n",
       "      <th>2</th>\n",
       "      <td>2400</td>\n",
       "      <td>3</td>\n",
       "      <td>369000</td>\n",
       "    </tr>\n",
       "    <tr>\n",
       "      <th>3</th>\n",
       "      <td>1416</td>\n",
       "      <td>2</td>\n",
       "      <td>232000</td>\n",
       "    </tr>\n",
       "    <tr>\n",
       "      <th>4</th>\n",
       "      <td>3000</td>\n",
       "      <td>4</td>\n",
       "      <td>539900</td>\n",
       "    </tr>\n",
       "  </tbody>\n",
       "</table>\n",
       "</div>"
      ],
      "text/plain": [
       "   Size  Bedrooms   Price\n",
       "0  2104         3  399900\n",
       "1  1600         3  329900\n",
       "2  2400         3  369000\n",
       "3  1416         2  232000\n",
       "4  3000         4  539900"
      ]
     },
     "execution_count": 273,
     "metadata": {},
     "output_type": "execute_result"
    }
   ],
   "source": [
    "# Importing Dataset and Visualizing first few rows\n",
    "data = pd.read_csv(\"./data.txt\", sep=\",\", names=[\"Size\", \"Bedrooms\", \"Price\"])\n",
    "data.head(5)"
   ]
  },
  {
   "cell_type": "markdown",
   "metadata": {},
   "source": [
    "### About the Dataset\n",
    "Our dataset consists of housing prices in a particular city as output feature (y), along with two input features, size of the house in square feet and number of bedrooms. This dataset has been obtained from one of the training examples in Andrew Ng's Machine Learning course in Coursera. To view more of the course details [click here](https://github.com/bacon-delight/machine-learning/tree/master/All%20Files), or to visit the course, [click here](https://www.coursera.org/learn/machine-learning). I highly recommend going through his course, it's awesome and will get you deep into how machine learning algorithms work.\n",
    "\n",
    "Input Features:\n",
    "- Size of house (in square feet)\n",
    "- Number of bedrooms\n",
    "\n",
    "Output Variable:\n",
    "- Price of house"
   ]
  },
  {
   "cell_type": "markdown",
   "metadata": {},
   "source": [
    "### Visualizing the Dataset\n",
    "Before going furthur, I want to take a moment and visualize the imported dataset"
   ]
  },
  {
   "cell_type": "code",
   "execution_count": 274,
   "metadata": {},
   "outputs": [
    {
     "data": {
      "image/png": "[encoded data removed]",
      "text/plain": [
       "<Figure size 432x288 with 1 Axes>"
      ]
     },
     "metadata": {
      "needs_background": "light"
     },
     "output_type": "display_data"
    }
   ],
   "source": [
    "# Plotting Size vs Price\n",
    "plt.scatter(data['Size'], data['Price'], s=10, alpha=0.5)\n",
    "plt.title('Scatter Plot of Size vs Price of Houses')\n",
    "plt.xlabel('Size')\n",
    "plt.ylabel('Price')\n",
    "plt.show()"
   ]
  },
  {
   "cell_type": "code",
   "execution_count": 275,
   "metadata": {},
   "outputs": [
    {
     "data": {
      "image/png": "[encoded data removed]",
      "text/plain": [
       "<Figure size 432x288 with 1 Axes>"
      ]
     },
     "metadata": {
      "needs_background": "light"
     },
     "output_type": "display_data"
    }
   ],
   "source": [
    "# Plotting Bedrooms vs Price\n",
    "plt.scatter(data['Bedrooms'], data['Price'], s=10, alpha=0.5)\n",
    "plt.title('Scatter Plot of Bedrooms vs Price of Houses')\n",
    "plt.xlabel('Bedrooms')\n",
    "plt.ylabel('Price')\n",
    "plt.show()"
   ]
  },
  {
   "cell_type": "markdown",
   "metadata": {},
   "source": [
    "### Normalizing the Data\n",
    "In this type of dataset where we have one of the feature ranging between 0 to 700k, and another ranging between 0 and 5000, our cost function can turn out to be highly eliptical ([click here](https://github.com/bacon-delight/machine-learning/blob/master/All%20Files/W02%20-%20C01%20-%20Multivariate%20Linear%20Regression.pdf) for explanation, scroll to \"Feature Scaling\" in the document). In such a scenario, Gradient Descent may oscillate back and forth and take a ling time to reach the global minimum. We will normalize our data so that the features are on a similar scale and gradient descent can hopefully find a much more direct path to the global optimum."
   ]
  },
  {
   "cell_type": "markdown",
   "metadata": {},
   "source": [
    "To scale the input features, we will use **Mean Normalization**.\n",
    "\\begin{align}\n",
    "x_i = \\frac{\\text{Actual} \\space x_i - \\mu_1}{\\text{Range of} \\space x_i}\n",
    "\\end{align}\n",
    "\n",
    "Where,\n",
    "- $i$ = $i^{th}$ Feature\n",
    "- $x_i$ = Value of $i^{th}$ Feature\n",
    "- $\\mu$ = Mean\n",
    "- $\\mu_i$ = Mean of $i^{th}$ Feature"
   ]
  },
  {
   "cell_type": "code",
   "execution_count": 276,
   "metadata": {},
   "outputs": [
    {
     "name": "stdout",
     "output_type": "stream",
     "text": [
      "Shape of X:  (47, 2)\n",
      "Shape of y:  (47, 1)\n"
     ]
    }
   ],
   "source": [
    "# Splitting Dataset into input features (X) and output variables (y)\n",
    "X = np.transpose(np.array([data['Size'], data['Bedrooms']]))\n",
    "y = np.transpose(np.array([data['Price']]))\n",
    "print('Shape of X: ', X.shape)\n",
    "print('Shape of y: ', y.shape)"
   ]
  },
  {
   "cell_type": "code",
   "execution_count": 277,
   "metadata": {},
   "outputs": [],
   "source": [
    "# Function for Feature Normalization\n",
    "def normalizeFeatures(X):\n",
    "    number_of_rows = np.size(X,0)\n",
    "    number_of_columns = np.size(X,1)\n",
    "    X_norm = np.zeros((number_of_rows,number_of_columns), dtype=\"float\")\n",
    "    sigma = np.zeros(number_of_columns, dtype=\"float\")\n",
    "    mu = np.zeros(number_of_columns, dtype=\"float\")\n",
    "    for column in range(number_of_columns):\n",
    "        sigma[column] = np.std(X[:,column])\n",
    "        mu[column] = np.mean(X[:,column])\n",
    "        X_norm[:,column] = (X[:,column]-mu[column])/sigma[column]\n",
    "    return X_norm, mu, sigma"
   ]
  },
  {
   "cell_type": "code",
   "execution_count": 278,
   "metadata": {},
   "outputs": [],
   "source": [
    "# Normalizing the Input Features\n",
    "X, mu, sigma = normalizeFeatures(X)"
   ]
  },
  {
   "cell_type": "markdown",
   "metadata": {},
   "source": [
    "Now that the input features have been normalized, I want to take into account the intercept term $\\theta_0$, and add an extra column of 1's to our input features, $x_0$ (for explanation, [click here](https://github.com/bacon-delight/machine-learning/blob/master/All%20Files/W01%20-%20C02%20-%20Model%20%26%20Cost%20Function.pdf)). This is to simplify the hypothesis, as explained below in the next section."
   ]
  },
  {
   "cell_type": "code",
   "execution_count": 279,
   "metadata": {},
   "outputs": [
    {
     "name": "stdout",
     "output_type": "stream",
     "text": [
      "Shape of X:  (47, 3)\n"
     ]
    }
   ],
   "source": [
    "# Adding an extra column for taking into account the intercept term\n",
    "m = y.size\n",
    "X = np.append(np.ones((m, 1), dtype=int), X, axis=1)\n",
    "print('Shape of X: ', X.shape)"
   ]
  },
  {
   "cell_type": "markdown",
   "metadata": {},
   "source": [
    "### Gradient Descent\n",
    "In multivariate linear regression, hypothesis sill be:\n",
    "\\begin{align}\n",
    "h_\\theta (x) &= \\theta_0 + \\theta_1 x_1 + \\theta_2 x_2 + \\cdots + \\theta_n x_n \\\\\n",
    "&= \\theta_0 x_0 + \\theta_1 x_1 + \\theta_2 x_2 + \\cdots + \\theta_n x_n \\quad [Let \\space x_0 = 1] \\\\\n",
    "&= \\theta^T x\n",
    "\\end{align}\n",
    "This is why I added the column of ones as $x_0$ in the input features"
   ]
  },
  {
   "cell_type": "markdown",
   "metadata": {},
   "source": [
    "Therefore, we get the following two matrices,\n",
    "\\begin{align}\n",
    "x =\n",
    "\\begin{bmatrix}\n",
    "x_0 \\\\\n",
    "x_1 \\\\\n",
    "\\vdots \\\\\n",
    "x_n\n",
    "\\end{bmatrix} _{[(n+1)*1]}\n",
    "\\quad \\quad \\quad \\quad\n",
    "\\theta =\n",
    "\\begin{bmatrix}\n",
    "\\theta_0 \\\\\n",
    "\\theta_1 \\\\\n",
    "\\vdots \\\\\n",
    "\\theta_n\n",
    "\\end{bmatrix} _{[(n+1)*1]}\n",
    "\\end{align}\n",
    "Parameters = $\\theta_0, \\theta_1, \\theta_2, \\cdots, \\theta_n = \\theta$"
   ]
  },
  {
   "cell_type": "markdown",
   "metadata": {},
   "source": [
    "**Cost Function** will turn out to be:\n",
    "\\begin{align}\n",
    "J(\\theta_0, \\theta_1, \\theta_2, \\cdots, \\theta_n) &= \\frac{1}{2m} \\dot \\sum^m_{i=1} (h_\\theta (x^{(i)}) - y^{(i)})^2\n",
    "\\\\\n",
    "=> J(\\theta) &= \\frac{1}{2m} \\dot \\sum^m_{i=1} (h_\\theta (x^{(i)}) - y^{(i)})^2\n",
    "\\end{align}"
   ]
  },
  {
   "cell_type": "code",
   "execution_count": 280,
   "metadata": {},
   "outputs": [],
   "source": [
    "# Function for Computing Cost Function\n",
    "def costFunction(theta):\n",
    "    J_sum = 0\n",
    "    for i in range(m):\n",
    "        J_sum += ((theta[0] + theta[1] * X[i][1]) - y[i])**2\n",
    "    J = (1/(2*m)) * J_sum\n",
    "    return J"
   ]
  },
  {
   "cell_type": "markdown",
   "metadata": {},
   "source": [
    "**Gradient Descent Algorithm:**\n",
    "\n",
    "*repeat {*\n",
    "\\begin{align}\n",
    "\\theta_j := \\theta_j - \\alpha \\frac{\\partial}{\\partial \\theta_j} J(\\theta_0, \\theta_1, \\theta_2, \\cdots, \\theta_n)\n",
    "\\end{align}\n",
    "*} (Simultaneously update $\\theta_j$ for every $j=0, 1, 2, \\cdots, n$)*"
   ]
  },
  {
   "cell_type": "markdown",
   "metadata": {},
   "source": [
    "Plugging in the value of $J(\\theta_0, \\theta_1, \\theta_2, \\cdots, \\theta_n)$:\n",
    "\n",
    "*repeat {*\n",
    "\\begin{align}\n",
    "\\theta_j := \\theta_j - \\alpha \\frac{1}{m} \\sum^m_{i=1} (h_\\theta(x^{(i)}) - y^{(i)}) x^{(i)}_j\n",
    "\\end{align}\n",
    "*} (Simultaneously update $\\theta_j$ for every $j=0, 1, 2, \\cdots, n$)*"
   ]
  },
  {
   "cell_type": "code",
   "execution_count": 281,
   "metadata": {},
   "outputs": [],
   "source": [
    "# Function for Running Gradient Descent\n",
    "def gradientDescent(theta, iterations, alpha):\n",
    "    J_history = np.zeros(iterations, dtype=float)\n",
    "    for i in range(iterations):\n",
    "        error = np.dot(X,theta)-y\n",
    "        theta = theta-((alpha/m)*np.dot(np.transpose(X),error))\n",
    "        J_history[i] = costFunction(theta)\n",
    "    return J_history, theta"
   ]
  },
  {
   "cell_type": "code",
   "execution_count": 282,
   "metadata": {},
   "outputs": [
    {
     "name": "stdout",
     "output_type": "stream",
     "text": [
      "Shape of Theta:  (3, 1)\n"
     ]
    }
   ],
   "source": [
    "# Initializing Theta\n",
    "theta = np.zeros((np.size(X,1),1), dtype=float)\n",
    "print('Shape of Theta: ', theta.shape)"
   ]
  },
  {
   "cell_type": "code",
   "execution_count": 283,
   "metadata": {},
   "outputs": [],
   "source": [
    "# Setting Number of Iterations and Learning Rate\n",
    "iterations=1000\n",
    "alpha=0.01"
   ]
  },
  {
   "cell_type": "code",
   "execution_count": 284,
   "metadata": {},
   "outputs": [],
   "source": [
    "# Let's run the Gradient Descent now\n",
    "J_history, theta = gradientDescent(theta, iterations, alpha)"
   ]
  },
  {
   "cell_type": "code",
   "execution_count": 285,
   "metadata": {},
   "outputs": [
    {
     "data": {
      "image/png": "[encoded data removed]",
      "text/plain": [
       "<Figure size 432x288 with 1 Axes>"
      ]
     },
     "metadata": {
      "needs_background": "light"
     },
     "output_type": "display_data"
    }
   ],
   "source": [
    "# Plotting the convergence\n",
    "plt.plot(np.arange(iterations), J_history)\n",
    "plt.title('Convergence of Cost Function')\n",
    "plt.xlabel('Number of Iterations')\n",
    "plt.ylabel('Cost')\n",
    "plt.show()"
   ]
  },
  {
   "cell_type": "code",
   "execution_count": 290,
   "metadata": {},
   "outputs": [
    {
     "name": "stdout",
     "output_type": "stream",
     "text": [
      "Computed Values of Theta from Gradient Descent:\n",
      "Theta  0  :  340397.96353531966\n",
      "Theta  1  :  108742.6562723772\n",
      "Theta  2  :  -5873.229933827041\n"
     ]
    }
   ],
   "source": [
    "# Let's have a look at the theta value computed from the gradient descent\n",
    "print('Computed Values of Theta from Gradient Descent:')\n",
    "for i in range(np.size(X,1)):\n",
    "    print('Theta ', (i), ' : ', float(theta[i]))"
   ]
  },
  {
   "cell_type": "markdown",
   "metadata": {},
   "source": [
    "### Predicting Prices\n",
    "Now that we have minimized the cost function and got the $\\theta$ values to fit into the hypothesis, we should move on and try predicting the prices for a new set of input features.\n",
    "\n",
    "\\begin{align}\n",
    "X =\n",
    "\\begin{bmatrix}\n",
    "x_1 \\\\\n",
    "x_2 \\\\\n",
    "\\vdots \\\\\n",
    "x_n\n",
    "\\end{bmatrix}\n",
    "\\quad \\quad \\quad \\quad\n",
    "\\text{We will add for the intercept $x_0=1$ later}\n",
    "\\end{align}"
   ]
  },
  {
   "cell_type": "markdown",
   "metadata": {},
   "source": [
    "We also have,\n",
    "\n",
    "\\begin{align}\n",
    "\\mu =\n",
    "\\begin{bmatrix}\n",
    "\\mu_1 \\\\\n",
    "\\mu_2 \\\\\n",
    "\\vdots \\\\\n",
    "\\mu_n\n",
    "\\end{bmatrix}\n",
    "\\quad \\quad \\quad \\quad\n",
    "\\sigma\n",
    "\\begin{bmatrix}\n",
    "\\sigma_1 \\\\\n",
    "\\sigma_2 \\\\\n",
    "\\vdots \\\\\n",
    "\\sigma_n\n",
    "\\end{bmatrix}\n",
    "\\end{align}"
   ]
  },
  {
   "cell_type": "markdown",
   "metadata": {},
   "source": [
    "First, we will do the following:\n",
    "\\begin{align}\n",
    "X = \\frac{X - \\mu}{\\sigma}\n",
    "\\end{align}"
   ]
  },
  {
   "cell_type": "markdown",
   "metadata": {},
   "source": [
    "Now that we have our features normalized, we can go ahead and add $x_0=1$ to account for the intercept term\n",
    "\n",
    "\\begin{align}\n",
    "X =\n",
    "\\begin{bmatrix}\n",
    "x_0 \\\\\n",
    "x_1 \\\\\n",
    "x_2 \\\\\n",
    "\\vdots \\\\\n",
    "x_n\n",
    "\\end{bmatrix}\n",
    "\\quad \\quad \\quad \\quad\n",
    "\\theta =\n",
    "\\begin{bmatrix}\n",
    "\\theta_0 \\\\\n",
    "\\theta_1 \\\\\n",
    "\\theta_2 \\\\\n",
    "\\vdots \\\\\n",
    "\\theta_n\n",
    "\\end{bmatrix}\n",
    "\\end{align}\n",
    "\n",
    "Here, append $x_0=1$ to the existing matrix of input features"
   ]
  },
  {
   "cell_type": "markdown",
   "metadata": {},
   "source": [
    "So finally, to get our output,\n",
    "\\begin{align}\n",
    "y = X^T \\theta\n",
    "\\end{align}"
   ]
  },
  {
   "cell_type": "code",
   "execution_count": 395,
   "metadata": {},
   "outputs": [],
   "source": [
    "# Let's predict the prices for certain set of input features\n",
    "new_features = np.array([[1650, 3], [3970, 5], [750, 1], [4720, 6], [2640, 2]], dtype=float)\n",
    "new_features_norm = np.append(np.ones((np.size(new_features, 0), 1), dtype=int), (new_features.reshape(np.size(new_features, 0),np.size(new_features, 1))-mu)/sigma, axis=1)\n",
    "predicted_value = np.dot(new_features_norm,theta)"
   ]
  },
  {
   "cell_type": "code",
   "execution_count": 396,
   "metadata": {},
   "outputs": [
    {
     "data": {
      "image/png": "[encoded data removed]",
      "text/plain": [
       "<Figure size 432x288 with 1 Axes>"
      ]
     },
     "metadata": {
      "needs_background": "light"
     },
     "output_type": "display_data"
    }
   ],
   "source": [
    "# Plotting Size vs Price\n",
    "plt.scatter(data['Size'], data['Price'], s=10, alpha=0.5)\n",
    "plt.scatter(new_features[:, 0], predicted_value, s=100, alpha=0.5, color='r', marker='x')\n",
    "plt.title('Scatter Plot of Size vs Price of Houses')\n",
    "plt.xlabel('Size')\n",
    "plt.ylabel('Price')\n",
    "plt.show()"
   ]
  },
  {
   "cell_type": "code",
   "execution_count": 397,
   "metadata": {},
   "outputs": [
    {
     "data": {
      "image/png": "[encoded data removed]",
      "text/plain": [
       "<Figure size 432x288 with 1 Axes>"
      ]
     },
     "metadata": {
      "needs_background": "light"
     },
     "output_type": "display_data"
    }
   ],
   "source": [
    "# Plotting Bedrooms vs Price\n",
    "plt.scatter(data['Bedrooms'], data['Price'], s=10, alpha=0.5)\n",
    "plt.scatter(new_features[:, 1], predicted_value, s=100, alpha=0.5, color='r', marker='x')\n",
    "plt.title('Scatter Plot of Bedrooms vs Price of Houses')\n",
    "plt.xlabel('Bedrooms')\n",
    "plt.ylabel('Price')\n",
    "plt.show()"
   ]
  },
  {
   "cell_type": "code",
   "execution_count": null,
   "metadata": {},
   "outputs": [],
   "source": []
  }
 ],
 "metadata": {
  "kernelspec": {
   "display_name": "Python 3",
   "language": "python",
   "name": "python3"
  },
  "language_info": {
   "codemirror_mode": {
    "name": "ipython",
    "version": 3
   },
   "file_extension": ".py",
   "mimetype": "text/x-python",
   "name": "python",
   "nbconvert_exporter": "python",
   "pygments_lexer": "ipython3",
   "version": "3.7.3"
  }
 },
 "nbformat": 4,
 "nbformat_minor": 2
}
